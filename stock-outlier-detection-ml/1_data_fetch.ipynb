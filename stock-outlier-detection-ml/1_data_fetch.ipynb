{
 "cells": [
  {
   "cell_type": "code",
   "execution_count": 1,
   "id": "ee34e34f",
   "metadata": {},
   "outputs": [
    {
     "name": "stdout",
     "output_type": "stream",
     "text": [
      "Fetching data for AAPL.US...\n",
      "✅ Saved AAPL.US to data/raw/\n",
      "Fetching data for MSFT.US...\n",
      "✅ Saved MSFT.US to data/raw/\n",
      "Fetching data for GOOGL.US...\n",
      "✅ Saved GOOGL.US to data/raw/\n",
      "Fetching data for AMZN.US...\n",
      "✅ Saved AMZN.US to data/raw/\n",
      "Fetching data for TSLA.US...\n",
      "✅ Saved TSLA.US to data/raw/\n"
     ]
    }
   ],
   "source": [
    "# 📈 Stock Data Fetch - Stooq.com\n",
    "# Author: Rehan Chaudhry\n",
    "# Project: Stock Outlier Detection\n",
    "\n",
    "import pandas as pd\n",
    "from pathlib import Path\n",
    "import time\n",
    "\n",
    "# Create directory for raw data\n",
    "Path(\"../data/raw\").mkdir(parents=True, exist_ok=True)\n",
    "\n",
    "# Stock tickers in Stooq format (U.S. stocks use '.US')\n",
    "tickers = ['AAPL.US', 'MSFT.US', 'GOOGL.US', 'AMZN.US', 'TSLA.US']\n",
    "\n",
    "# Base URL\n",
    "BASE_URL = \"https://stooq.com/q/d/l/?s={ticker}&i=d\"  # Daily frequency\n",
    "\n",
    "# Loop through and download CSVs\n",
    "for ticker in tickers:\n",
    "    try:\n",
    "        print(f\"Fetching data for {ticker}...\")\n",
    "        url = BASE_URL.format(ticker=ticker.lower())\n",
    "        df = pd.read_csv(url)\n",
    "        \n",
    "        if df.empty:\n",
    "            print(f\"⚠️ No data for {ticker}. Skipping.\")\n",
    "        else:\n",
    "            df.to_csv(f\"../data/raw/{ticker}.csv\", index=False)\n",
    "            print(f\"✅ Saved {ticker} to data/raw/\")\n",
    "        time.sleep(1)\n",
    "    except Exception as e:\n",
    "        print(f\"❌ Failed to fetch {ticker}: {e}\")\n"
   ]
  },
  {
   "cell_type": "code",
   "execution_count": null,
   "id": "3f12fff3",
   "metadata": {},
   "outputs": [],
   "source": []
  }
 ],
 "metadata": {
  "kernelspec": {
   "display_name": "base",
   "language": "python",
   "name": "python3"
  },
  "language_info": {
   "codemirror_mode": {
    "name": "ipython",
    "version": 3
   },
   "file_extension": ".py",
   "mimetype": "text/x-python",
   "name": "python",
   "nbconvert_exporter": "python",
   "pygments_lexer": "ipython3",
   "version": "3.12.7"
  }
 },
 "nbformat": 4,
 "nbformat_minor": 5
}
